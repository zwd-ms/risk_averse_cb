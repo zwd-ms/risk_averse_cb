{
  "cells": [
    {
      "cell_type": "markdown",
      "metadata": {
        "id": "1JzswX0Fg24T"
      },
      "source": [
        "# Install packages, define functions"
      ],
      "id": "1JzswX0Fg24T"
    },
    {
      "cell_type": "code",
      "execution_count": null,
      "metadata": {
        "id": "7bCr30UxT8vv"
      },
      "outputs": [],
      "source": [
        "#!pip install coba==4.8.6"
      ],
      "id": "7bCr30UxT8vv"
    },
    {
      "cell_type": "code",
      "execution_count": null,
      "metadata": {
        "id": "6yv4EFaVmR9L"
      },
      "outputs": [],
      "source": [
        "#!pip install vowpalwabbit==9.1.0"
      ],
      "id": "6yv4EFaVmR9L"
    },
    {
      "cell_type": "code",
      "execution_count": null,
      "metadata": {
        "id": "mC1EGYCsKTNU"
      },
      "outputs": [],
      "source": [
        "#!pip install scipy==1.7.3"
      ],
      "id": "mC1EGYCsKTNU"
    },
    {
      "cell_type": "code",
      "execution_count": 6,
      "metadata": {
        "id": "96ac53ef"
      },
      "outputs": [],
      "source": [
        "from coba.experiments import Experiment, Result\n",
        "from coba.environments import Environments\n",
        "from coba.learners import VowpalArgsLearner\n",
        "from coba.pipes.filters import Reservoir, Shuffle\n",
        "\n",
        "import pandas as pd\n",
        "import matplotlib.pyplot as plt\n",
        "from matplotlib.pyplot import figure\n",
        "import numpy as np\n",
        "\n",
        "from scipy.stats import bootstrap\n",
        "from scipy.optimize import minimize_scalar"
      ],
      "id": "96ac53ef"
    },
    {
      "cell_type": "code",
      "execution_count": 7,
      "metadata": {
        "id": "gcgyXcdfKbiI"
      },
      "outputs": [],
      "source": [
        "def f(m, *data):\n",
        "   q, x = data\n",
        "   return q * np.sum(np.square(np.clip(x - m, a_min=0, a_max=None))) + (1 - q) * np.sum(np.square(np.clip(x - m, a_min=None, a_max=0)))"
      ],
      "id": "gcgyXcdfKbiI"
    },
    {
      "cell_type": "code",
      "execution_count": 8,
      "metadata": {
        "id": "ad2PkU7vAiqR"
      },
      "outputs": [],
      "source": [
        "def calc_evar_cis(rewards, q=0.2, bounds=(-1,1)):\n",
        "\n",
        "  def calc_evar_ci(rew, q=q, bounds=bounds):\n",
        "    data = (q, rew)\n",
        "    return float(minimize_scalar(f, bounds=bounds, method='bounded', args=data).x)\n",
        "\n",
        "  rew_seq = (rewards,)  # samples must be in a sequence\n",
        "  res = bootstrap(rew_seq, calc_evar_ci, confidence_level=0.95, vectorized=False, n_resamples=1000, batch=1024, random_state=42)\n",
        "  ci_l, ci_u = res.confidence_interval\n",
        "  return ci_l, ci_u"
      ],
      "id": "ad2PkU7vAiqR"
    },
    {
      "cell_type": "code",
      "execution_count": 9,
      "metadata": {
        "id": "SUq18wPCDdlp"
      },
      "outputs": [],
      "source": [
        "def calc_mean_cis(rewards, bounds=(-1,1)):\n",
        "  rew_seq = (rewards,)  # samples must be in a sequence\n",
        "  res = bootstrap(rew_seq, np.mean, confidence_level=0.95, n_resamples=1000, batch=1024, random_state=42)\n",
        "  ci_l, ci_u = res.confidence_interval\n",
        "  return ci_l, ci_u"
      ],
      "id": "SUq18wPCDdlp"
    },
    {
      "cell_type": "code",
      "execution_count": 10,
      "metadata": {
        "id": "IVQO0itFCDIg"
      },
      "outputs": [],
      "source": [
        "def calc_evar(rew, q=0.2, bounds=(-1,1)):\n",
        "  data = (q, rew)\n",
        "  return float(minimize_scalar(f, bounds=bounds, method='bounded', args=data).x)"
      ],
      "id": "IVQO0itFCDIg"
    },
    {
      "cell_type": "code",
      "execution_count": 11,
      "metadata": {
        "id": "ClWNQJ8DvGUd"
      },
      "outputs": [],
      "source": [
        "def calc_rate_cis(rewards):\n",
        "\n",
        "  def calc_rate_ci(rew):\n",
        "    return float(np.sum(rew)/len(rew))*100\n",
        "\n",
        "  rew_seq = (rewards,)  # samples must be in a sequence\n",
        "  res = bootstrap(rew_seq, calc_rate_ci, vectorized=False, confidence_level=0.95, n_resamples=1000, batch=1024, random_state=42)\n",
        "  ci_l, ci_u = res.confidence_interval\n",
        "  return ci_l, ci_u"
      ],
      "id": "ClWNQJ8DvGUd"
    },
    {
      "cell_type": "code",
      "execution_count": 12,
      "metadata": {
        "id": "ZDdhDfwGdpka"
      },
      "outputs": [],
      "source": [
        "# Creating a VW Learner with storing extra information about the selected action of each interaction, using this info for calculating 'No Sale (%)' results later\n",
        "\n",
        "from coba.environments import Context, Action\n",
        "from coba.learners.primitives import Info\n",
        "from coba.contexts.core import InteractionContext\n",
        "from coba.learners import VowpalArgsLearner\n",
        "\n",
        "class VowpalArgsLearner_ActionLog(VowpalArgsLearner):\n",
        "\n",
        "    def learn(self, context: Context, action: Action, reward: float, probability: float, info: Info) -> None:\n",
        "        super().learn(context,action,reward,probability,info)\n",
        "        InteractionContext.learner_info.update({\"Selected_action\": str(action)})"
      ],
      "id": "ZDdhDfwGdpka"
    },
    {
      "cell_type": "markdown",
      "metadata": {
        "id": "_QmYfijrWxf9"
      },
      "source": [
        "# Prudential insurance dataset simulation"
      ],
      "id": "_QmYfijrWxf9"
    },
    {
      "cell_type": "code",
      "execution_count": 13,
      "metadata": {
        "id": "rgE2V54lrcTI"
      },
      "outputs": [],
      "source": [
        "import itertools\n",
        "from typing import Optional, Hashable, Any, Union, Iterable, Dict\n",
        "import csv\n",
        "\n",
        "from coba.environments import SimulatedInteraction\n",
        "\n",
        "Action      = Union[Hashable, dict]\n",
        "Context     = Optional[Union[Hashable, dict]]\n",
        "Feedback    = Any\n",
        "\n",
        "class InsuranceOptimizationSimulation:\n",
        "    \"\"\"Simulation created from the prudential insurance csv file with features (context) and label (action).\n",
        "    \"\"\"\n",
        "\n",
        "    def __init__(self, filename: str) -> None:\n",
        "        self._filename = filename\n",
        "\n",
        "    @property\n",
        "    def params(self) -> Dict[str, Any]:\n",
        "        \"\"\"Paramaters describing the simulation.\"\"\"\n",
        "        return { \"file\": self._filename}\n",
        "\n",
        "    def read(self) -> Iterable[SimulatedInteraction]:\n",
        "        \"\"\"Read the interactions in this simulation.\"\"\"\n",
        "        with open(self._filename, encoding='utf-8') as csvfile:\n",
        "            \n",
        "            rows           = csv.reader(csvfile, delimiter=',')\n",
        "            rows_header    = next(rows, None)\n",
        "            rows_iter      = itertools.islice(rows, 0, None)\n",
        "\n",
        "            headers_dict = {k: v for v, k in enumerate(rows_header)}\n",
        "\n",
        "            categorical_featurenames = [\"Product_Info_1\", \"Product_Info_2\", \"Product_Info_3\", \"Product_Info_5\", \"Product_Info_6\", \"Product_Info_7\", \"Employment_Info_2\", \"Employment_Info_3\", \"Employment_Info_5\", \"InsuredInfo_1\", \"InsuredInfo_2\", \"InsuredInfo_3\", \"InsuredInfo_4\", \"InsuredInfo_5\", \"InsuredInfo_6\", \"InsuredInfo_7\", \"Insurance_History_1\", \"Insurance_History_2\", \"Insurance_History_3\", \"Insurance_History_4\", \"Insurance_History_7\", \"Insurance_History_8\", \"Insurance_History_9\", \"Family_Hist_1\", \"Medical_History_2\", \"Medical_History_3\", \"Medical_History_4\", \"Medical_History_5\", \"Medical_History_6\", \"Medical_History_7\", \"Medical_History_8\", \"Medical_History_9\", \"Medical_History_11\", \"Medical_History_12\", \"Medical_History_13\", \"Medical_History_14\", \"Medical_History_16\", \"Medical_History_17\", \"Medical_History_18\", \"Medical_History_19\", \"Medical_History_20\", \"Medical_History_21\", \"Medical_History_22\", \"Medical_History_23\", \"Medical_History_25\", \"Medical_History_26\", \"Medical_History_27\", \"Medical_History_28\", \"Medical_History_29\", \"Medical_History_30\", \"Medical_History_31\", \"Medical_History_33\", \"Medical_History_34\", \"Medical_History_35\", \"Medical_History_36\", \"Medical_History_37\", \"Medical_History_38\", \"Medical_History_39\", \"Medical_History_40\", \"Medical_History_41\",\"Medical_Keyword_1\",\"Medical_Keyword_2\",\"Medical_Keyword_3\",\"Medical_Keyword_4\",\"Medical_Keyword_5\",\"Medical_Keyword_6\",\"Medical_Keyword_7\",\"Medical_Keyword_8\",\"Medical_Keyword_9\",\"Medical_Keyword_10\",\"Medical_Keyword_11\",\"Medical_Keyword_12\",\"Medical_Keyword_13\",\"Medical_Keyword_14\",\"Medical_Keyword_15\",\"Medical_Keyword_16\",\"Medical_Keyword_17\",\"Medical_Keyword_18\",\"Medical_Keyword_19\",\"Medical_Keyword_20\",\"Medical_Keyword_21\",\"Medical_Keyword_22\",\"Medical_Keyword_23\",\"Medical_Keyword_24\",\"Medical_Keyword_25\",\"Medical_Keyword_26\",\"Medical_Keyword_27\",\"Medical_Keyword_28\",\"Medical_Keyword_29\",\"Medical_Keyword_30\",\"Medical_Keyword_31\",\"Medical_Keyword_32\",\"Medical_Keyword_33\",\"Medical_Keyword_34\",\"Medical_Keyword_35\",\"Medical_Keyword_36\",\"Medical_Keyword_37\",\"Medical_Keyword_38\",\"Medical_Keyword_39\",\"Medical_Keyword_40\",\"Medical_Keyword_41\",\"Medical_Keyword_42\",\"Medical_Keyword_43\",\"Medical_Keyword_44\",\"Medical_Keyword_45\",\"Medical_Keyword_46\",\"Medical_Keyword_47\",\"Medical_Keyword_48\"]\n",
        "            num_featurenames = [\"Product_Info_4\", \"Ins_Age\", \"Ht\", \"Wt\", \"BMI\", \"Employment_Info_1\", \"Employment_Info_4\", \"Employment_Info_6\", \"Insurance_History_5\", \"Family_Hist_2\", \"Family_Hist_3\", \"Family_Hist_4\", \"Family_Hist_5\"]\n",
        "            disc_featurenames = [\"Medical_History_1\", \"Medical_History_10\", \"Medical_History_15\", \"Medical_History_24\", \"Medical_History_32\"]\n",
        "\n",
        "            categorical_indices = [headers_dict[name] for name in categorical_featurenames]\n",
        "            numeric_indices = [headers_dict[name] for name in num_featurenames]\n",
        "            discrete_indices = [headers_dict[name] for name in disc_featurenames]\n",
        "\n",
        "            target_index = headers_dict[\"Response\"]\n",
        "\n",
        "            actions = list(range(1,9))\n",
        "\n",
        "            feedback = lambda actual: [(1-0.1*(actual-action)) if action<=actual else 0 for action in actions]\n",
        "\n",
        "            for row in rows_iter:\n",
        "                context = {}\n",
        "                for i in categorical_indices:\n",
        "                    context['cat_'+ str(i)] = 'c' + row[i]\n",
        "                \n",
        "                for i in numeric_indices:\n",
        "                    if row[i] != '':\n",
        "                        context['num_'+ str(i)] = float(row[i])\n",
        "                        context['num_'+ str(i) + '_NA'] = 0\n",
        "                    else:\n",
        "                        context['num_'+ str(i) + '_NA'] = 1\n",
        "\n",
        "                for i in discrete_indices:\n",
        "                    if row[i] != '':\n",
        "                        context['disc_'+ str(i)] = int(row[i])\n",
        "                        context['disc_'+ str(i) + '_NA'] = 0\n",
        "                    else:\n",
        "                        context['disc_'+ str(i) + '_NA'] = 1\n",
        "\n",
        "                rewards  = feedback(int(row[target_index]))\n",
        "               \n",
        "                yield SimulatedInteraction(context=context, actions=actions, rewards=rewards)\n",
        "\n",
        "    def __repr__(self) -> str:\n",
        "        return f'{{InsuranceOptimizationSimulation: {self._filename}}}'"
      ],
      "id": "rgE2V54lrcTI"
    },
    {
      "cell_type": "code",
      "execution_count": 14,
      "metadata": {
        "id": "PWDJCj3URQ97"
      },
      "outputs": [],
      "source": [
        "dataset_path = 'insurance.csv' # Dataset path\n",
        "num_instances = 59381\n",
        "seed1 = 111\n",
        "seed2 = 777\n",
        "environment = Environments([InsuranceOptimizationSimulation(dataset_path)]).reservoir(num_instances,[seed2]).shuffle([seed1])"
      ],
      "id": "PWDJCj3URQ97"
    },
    {
      "cell_type": "code",
      "execution_count": 15,
      "metadata": {
        "id": "xYKPilZxpzFw"
      },
      "outputs": [],
      "source": [
        "# Getting the true target for each interaction after shuffling to calculate 'No Sale (%)' results later\n",
        "# For the learners it is done inside coba\n",
        "dataset = pd.read_csv(dataset_path, sep=',', encoding='utf-8')\n",
        "\n",
        "shuffled_dataset=list(Shuffle(seed1).filter(Reservoir(num_instances,seed2).filter(dataset['Response'])))"
      ],
      "id": "xYKPilZxpzFw"
    },
    {
      "cell_type": "markdown",
      "metadata": {
        "id": "pE-fe7z8YBnI"
      },
      "source": [
        "# Run learners, calculate performance metrics"
      ],
      "id": "pE-fe7z8YBnI"
    },
    {
      "cell_type": "markdown",
      "metadata": {
        "id": "9VFOVQCUXFc_"
      },
      "source": [
        "## Risk-averse learner - Expectile loss with q=0.2"
      ],
      "id": "9VFOVQCUXFc_"
    },
    {
      "cell_type": "code",
      "execution_count": 16,
      "metadata": {
        "colab": {
          "base_uri": "https://localhost:8080/"
        },
        "id": "avMQlVHBLQBr",
        "outputId": "99bbbcf5-5303-46f1-b032-07bc2b71b945"
      },
      "outputs": [
        {
          "output_type": "stream",
          "name": "stdout",
          "text": [
            "2022-05-24 21:02:19 -- Processing chunk...\n",
            "2022-05-24 21:02:19 --   * Recording Learner 0 parameters... (0.01 seconds) (completed)\n",
            "2022-05-24 21:02:25 --   * Loading {InsuranceOptimizationSimulation: insurance.csv}... (5.53 seconds) (completed)\n",
            "2022-05-24 21:02:25 --   * Creating Environment 0 from Loaded Source... (0.24 seconds) (completed)\n",
            "2022-05-24 21:02:25 --   * Recording Environment 0 statistics... (0.0 seconds) (completed)\n",
            "2022-05-24 21:03:30 --   * Evaluating Learner 0 on Environment 0... (65.14 seconds) (completed)\n"
          ]
        }
      ],
      "source": [
        "learner_q20 = [VowpalArgsLearner_ActionLog('--cb_explore_adf --squarecb --gamma_scale 654.8369214851169 --gamma_exponent 0.9808989298773739 --loss_function expectile --quantile_tau 0.2 --interactions xa --coin')]\n",
        "result_q20 = Experiment(environment, learner_q20).evaluate()"
      ],
      "id": "avMQlVHBLQBr"
    },
    {
      "cell_type": "code",
      "execution_count": 17,
      "metadata": {
        "id": "G2IecBSfL6He"
      },
      "outputs": [],
      "source": [
        "df_20=result_q20.interactions.to_pandas()"
      ],
      "id": "G2IecBSfL6He"
    },
    {
      "cell_type": "markdown",
      "metadata": {
        "id": "DFyvnZ-kMEdb"
      },
      "source": [
        "### EVaR q=0.2"
      ],
      "id": "DFyvnZ-kMEdb"
    },
    {
      "cell_type": "code",
      "execution_count": 18,
      "metadata": {
        "colab": {
          "base_uri": "https://localhost:8080/"
        },
        "id": "-IWHwWUFMEdb",
        "outputId": "81e89326-adac-450f-906f-1bbd236ae9ac"
      },
      "outputs": [
        {
          "output_type": "execute_result",
          "data": {
            "text/plain": [
              "(0.4140332738687006, 0.4165646426308426)"
            ]
          },
          "metadata": {},
          "execution_count": 18
        }
      ],
      "source": [
        "calc_evar_cis(df_20.reward, q=0.2, bounds=(0,1))"
      ],
      "id": "-IWHwWUFMEdb"
    },
    {
      "cell_type": "markdown",
      "metadata": {
        "id": "YfpcFVrrMEdc"
      },
      "source": [
        "### Average"
      ],
      "id": "YfpcFVrrMEdc"
    },
    {
      "cell_type": "code",
      "execution_count": 19,
      "metadata": {
        "colab": {
          "base_uri": "https://localhost:8080/"
        },
        "id": "kBmE06GyMEdc",
        "outputId": "f32daeef-7fcb-4342-ad8e-2ebac7a37665"
      },
      "outputs": [
        {
          "output_type": "execute_result",
          "data": {
            "text/plain": [
              "(0.5339109475376247, 0.5378068996495275)"
            ]
          },
          "metadata": {},
          "execution_count": 19
        }
      ],
      "source": [
        "calc_mean_cis(df_20.reward)"
      ],
      "id": "kBmE06GyMEdc"
    },
    {
      "cell_type": "markdown",
      "metadata": {
        "id": "4UJQQxvaMEdc"
      },
      "source": [
        "### No sale (%)"
      ],
      "id": "4UJQQxvaMEdc"
    },
    {
      "cell_type": "code",
      "execution_count": 20,
      "metadata": {
        "id": "dJSQXGPJMEdd"
      },
      "outputs": [],
      "source": [
        "df_20_actions = list(map(lambda x: int(x), df_20['Selected_action']))"
      ],
      "id": "dJSQXGPJMEdd"
    },
    {
      "cell_type": "code",
      "execution_count": 21,
      "metadata": {
        "colab": {
          "base_uri": "https://localhost:8080/"
        },
        "id": "Tsf5n_boMEdd",
        "outputId": "fc405dde-e18e-4287-a40e-2b8cf374b7c4"
      },
      "outputs": [
        {
          "output_type": "execute_result",
          "data": {
            "text/plain": [
              "(0.047153129788989744, 0.08757009817955237)"
            ]
          },
          "metadata": {},
          "execution_count": 21
        }
      ],
      "source": [
        "calc_rate_cis(np.array(shuffled_dataset)<np.array(df_20_actions))"
      ],
      "id": "Tsf5n_boMEdd"
    },
    {
      "cell_type": "markdown",
      "metadata": {
        "id": "KdDkhgpaWmqO"
      },
      "source": [
        "## Risk-neutral learner - Expectile loss with q=0.5"
      ],
      "id": "KdDkhgpaWmqO"
    },
    {
      "cell_type": "code",
      "execution_count": 22,
      "metadata": {
        "colab": {
          "base_uri": "https://localhost:8080/"
        },
        "id": "-TT6ILGSRc5E",
        "outputId": "cc9997e1-d66e-40c7-8bb1-920d1057c2a2"
      },
      "outputs": [
        {
          "output_type": "stream",
          "name": "stdout",
          "text": [
            "2022-05-24 21:17:58 -- Processing chunk...\n",
            "2022-05-24 21:17:58 --   * Recording Learner 0 parameters... (0.05 seconds) (completed)\n",
            "2022-05-24 21:18:05 --   * Loading {InsuranceOptimizationSimulation: insurance.csv}... (6.94 seconds) (completed)\n",
            "2022-05-24 21:18:05 --   * Creating Environment 0 from Loaded Source... (0.34 seconds) (completed)\n",
            "2022-05-24 21:18:05 --   * Recording Environment 0 statistics... (0.0 seconds) (completed)\n",
            "2022-05-24 21:19:04 --   * Evaluating Learner 0 on Environment 0... (58.58 seconds) (completed)\n"
          ]
        }
      ],
      "source": [
        "# Best learner from the hyperparameter search\n",
        "learner_q50 = [VowpalArgsLearner_ActionLog('--cb_explore_adf --squarecb --gamma_scale 699.5817922481644 --gamma_exponent 0.9556705413691085 --loss_function expectile --quantile_tau 0.5 --interactions xa --coin')]\n",
        "result_q50 = Experiment(environment, learner_q50).evaluate()"
      ],
      "id": "-TT6ILGSRc5E"
    },
    {
      "cell_type": "code",
      "execution_count": 23,
      "metadata": {
        "id": "zZQIwWwtDEmD"
      },
      "outputs": [],
      "source": [
        "df_50=result_q50.interactions.to_pandas()"
      ],
      "id": "zZQIwWwtDEmD"
    },
    {
      "cell_type": "markdown",
      "metadata": {
        "id": "PUFI1xs6W8RG"
      },
      "source": [
        "### EVaR q=0.2"
      ],
      "id": "PUFI1xs6W8RG"
    },
    {
      "cell_type": "code",
      "execution_count": 24,
      "metadata": {
        "colab": {
          "base_uri": "https://localhost:8080/"
        },
        "id": "p8JCDA70ENgo",
        "outputId": "685987af-a298-450d-8f02-f9a00226b5ba"
      },
      "outputs": [
        {
          "output_type": "execute_result",
          "data": {
            "text/plain": [
              "(0.38734547004479924, 0.3944480606480572)"
            ]
          },
          "metadata": {},
          "execution_count": 24
        }
      ],
      "source": [
        "calc_evar_cis(df_50.reward, q=0.2, bounds=(0,1))"
      ],
      "id": "p8JCDA70ENgo"
    },
    {
      "cell_type": "markdown",
      "metadata": {
        "id": "Dcoh3xVCUF_5"
      },
      "source": [
        "### Average"
      ],
      "id": "Dcoh3xVCUF_5"
    },
    {
      "cell_type": "code",
      "execution_count": 25,
      "metadata": {
        "colab": {
          "base_uri": "https://localhost:8080/"
        },
        "id": "Y7IBtd675tpH",
        "outputId": "d8ff3935-a453-4280-e481-9af47a842f82"
      },
      "outputs": [
        {
          "output_type": "execute_result",
          "data": {
            "text/plain": [
              "(0.6059826628276573, 0.6120916030141976)"
            ]
          },
          "metadata": {},
          "execution_count": 25
        }
      ],
      "source": [
        "calc_mean_cis(df_50.reward)"
      ],
      "id": "Y7IBtd675tpH"
    },
    {
      "cell_type": "markdown",
      "metadata": {
        "id": "QP-An-2tGa3l"
      },
      "source": [
        "### No Sale (%)"
      ],
      "id": "QP-An-2tGa3l"
    },
    {
      "cell_type": "code",
      "execution_count": null,
      "metadata": {
        "id": "qs2L9xzpGD6A"
      },
      "outputs": [],
      "source": [
        "df_50_actions = list(map(lambda x: int(x), df_50['Selected_action']))"
      ],
      "id": "qs2L9xzpGD6A"
    },
    {
      "cell_type": "code",
      "execution_count": 27,
      "metadata": {
        "id": "-rv9DV5eGfbO",
        "colab": {
          "base_uri": "https://localhost:8080/"
        },
        "outputId": "1f2f68e2-ab30-4db2-8713-b0556e73b9d1"
      },
      "outputs": [
        {
          "output_type": "execute_result",
          "data": {
            "text/plain": [
              "(16.415277456934707, 17.019859468624563)"
            ]
          },
          "metadata": {},
          "execution_count": 27
        }
      ],
      "source": [
        "calc_rate_cis(np.array(shuffled_dataset)<np.array(df_50_actions))"
      ],
      "id": "-rv9DV5eGfbO"
    },
    {
      "cell_type": "markdown",
      "metadata": {
        "id": "kG_oSpv5-T6W"
      },
      "source": [
        "## Summary"
      ],
      "id": "kG_oSpv5-T6W"
    },
    {
      "cell_type": "markdown",
      "metadata": {
        "id": "mg_H-qmy8_iD"
      },
      "source": [
        "| $q$ | EVaR q=0.2 | Avg. (EVaR q=0.5) | No Sale (%)\n",
        "| --- | --- | --- | --- |\n",
        "| 0.2 | [0.414, 0.417] | [0.534, 0.538] | [0.0472, 0.0876]\n",
        "| 0.5 | [0.387, 0.394] | [0.606, 0.612] | [16.4, 17.0]"
      ],
      "id": "mg_H-qmy8_iD"
    },
    {
      "cell_type": "markdown",
      "metadata": {
        "id": "_F9BlwHdUcoH"
      },
      "source": [
        "# Plots"
      ],
      "id": "_F9BlwHdUcoH"
    },
    {
      "cell_type": "code",
      "execution_count": null,
      "metadata": {
        "id": "t5ipgLybVSIE"
      },
      "outputs": [],
      "source": [
        "evars_expectile_q20_l, evars_expectile_q20_m, evars_expectile_q20_h = [], [], []\n",
        "evars_expectile_q50_l, evars_expectile_q50_m, evars_expectile_q50_h = [], [], []\n",
        "\n",
        "for q in [0.1,0.2,0.3,0.4,0.5]:\n",
        "  m = calc_evar(df_20.reward, q=q, bounds=(0,1)) \n",
        "  l, h = calc_evar_cis(df_20.reward, q=q, bounds=(0,1))\n",
        "  #print('Expectile loss q=0.2: q=', q, l, m, h)\n",
        "  evars_expectile_q20_l.append(l)\n",
        "  evars_expectile_q20_m.append(m)\n",
        "  evars_expectile_q20_h.append(h)\n",
        "\n",
        "for q in [0.1,0.2,0.3,0.4,0.5]:\n",
        "  m = calc_evar(df_50.reward, q=q, bounds=(0,1)) \n",
        "  l, h = calc_evar_cis(df_50.reward, q=q, bounds=(0,1))\n",
        "  #print('Expectile loss q=0.5: q=', q, l, m, h)\n",
        "  evars_expectile_q50_l.append(l)\n",
        "  evars_expectile_q50_m.append(m)\n",
        "  evars_expectile_q50_h.append(h)"
      ],
      "id": "t5ipgLybVSIE"
    },
    {
      "cell_type": "code",
      "execution_count": null,
      "metadata": {
        "colab": {
          "base_uri": "https://localhost:8080/",
          "height": 431
        },
        "id": "8jqo52dYU8Nk",
        "outputId": "b0f82c34-5a64-4e4a-9b25-bcbbf66b598a"
      },
      "outputs": [
        {
          "data": {
            "image/png": "[encoded data removed]",
            "text/plain": [
              "<Figure size 432x288 with 1 Axes>"
            ]
          },
          "metadata": {},
          "output_type": "display_data"
        }
      ],
      "source": [
        "plt.style.use('seaborn-colorblind')\n",
        "plt.errorbar(np.linspace(0.1,0.5,5), evars_expectile_q50_m, [np.array(evars_expectile_q50_m)-np.array(evars_expectile_q50_l), np.array(evars_expectile_q50_h)-np.array(evars_expectile_q50_m)], capsize=3, label='risk-neutral ($q=0.5$)')\n",
        "plt.errorbar(np.linspace(0.1,0.5,5), evars_expectile_q20_m, [np.array(evars_expectile_q20_m)-np.array(evars_expectile_q20_l), np.array(evars_expectile_q20_h)-np.array(evars_expectile_q20_m)], capsize=3, label='risk-averse ($q=0.2$)')\n",
        "\n",
        "plt.xlabel('Evaluation expectile $w$', fontsize=16)\n",
        "plt.ylabel('Realized EVaR$_w$ (reward)', fontsize=16)\n",
        "\n",
        "plt.locator_params(axis='y', nbins=6)\n",
        "plt.locator_params(axis='x', nbins=5)\n",
        "\n",
        "plt.legend(fontsize=16)\n",
        "plt.xticks(fontsize=16)\n",
        "plt.yticks(fontsize=16)\n",
        "plt.setp(plt.gca().spines.values(), linewidth=2)\n",
        "plt.tight_layout()\n",
        "plt.savefig('Prudential_dataset_3d982d2.pdf', bbox_inches='tight', facecolor='white')"
      ],
      "id": "8jqo52dYU8Nk"
    },
    {
      "cell_type": "code",
      "execution_count": null,
      "metadata": {
        "id": "IeWtm5rmcrkd"
      },
      "outputs": [],
      "source": [
        ""
      ],
      "id": "IeWtm5rmcrkd"
    },
    {
      "cell_type": "markdown",
      "metadata": {
        "id": "pd3PgoTolBK7"
      },
      "source": [
        "## Hyperparameter search"
      ],
      "id": "pd3PgoTolBK7"
    },
    {
      "cell_type": "code",
      "execution_count": null,
      "metadata": {
        "id": "kiqTP70BVlIn"
      },
      "outputs": [],
      "source": [
        "# Script used for hyperparameter search\n",
        "\n",
        "from coba.environments import Environments\n",
        "from coba.experiments import Experiment\n",
        "from coba.learners import VowpalArgsLearner\n",
        "\n",
        "import random\n",
        "\n",
        "def hyperparams():\n",
        "    gamma_scales, gamma_exponents = [], []\n",
        "    for gamma_scale, gamma_exponent in (\n",
        "    (\n",
        "    1 + 999 * random.random(),\n",
        "    0.01 + 0.99 * random.random()\n",
        "    )\n",
        "        for _ in range(59)\n",
        "        ):\n",
        "        gamma_scales.append(gamma_scale)\n",
        "        gamma_exponents.append(gamma_exponent)\n",
        "    \n",
        "    return gamma_scales, gamma_exponents\n",
        "\n",
        "\n",
        "gamma_scales, gamma_exponents = hyperparams()\n",
        "learners = []\n",
        "for scale, exponent in zip(gamma_scales, gamma_exponents):\n",
        "    args = '--cb_explore_adf --squarecb --gamma_scale ' + str(scale) + ' --gamma_exponent ' + str(exponent) + ' --loss_function expectile --quantile_tau 0.2 --interactions xa --coin'\n",
        "    #args = '--cb_explore_adf --squarecb --gamma_scale ' + str(scale) + ' --gamma_exponent ' + str(exponent) + ' --loss_function expectile --quantile_tau 0.5 --interactions xa --coin'\n",
        "    learners.append(VowpalArgsLearner_ActionLog(args))\n",
        "\n",
        "result_q20_hyper = Experiment(environment, learners).evaluate()\n",
        "#result_q50_hyper = Experiment(environment, learners).evaluate()"
      ],
      "id": "kiqTP70BVlIn"
    }
  ],
  "metadata": {
    "colab": {
      "collapsed_sections": [],
      "name": "Prudential_experiments.ipynb",
      "provenance": []
    },
    "kernelspec": {
      "display_name": "Python 3",
      "language": "python",
      "name": "python3"
    },
    "language_info": {
      "codemirror_mode": {
        "name": "ipython",
        "version": 3
      },
      "file_extension": ".py",
      "mimetype": "text/x-python",
      "name": "python",
      "nbconvert_exporter": "python",
      "pygments_lexer": "ipython3",
      "version": "3.9.7"
    }
  },
  "nbformat": 4,
  "nbformat_minor": 5
}