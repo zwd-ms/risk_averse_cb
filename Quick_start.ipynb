{
  "nbformat": 4,
  "nbformat_minor": 0,
  "metadata": {
    "colab": {
      "provenance": [],
      "collapsed_sections": [
        "JHGl8nVJ4mZq",
        "ZyUuiEZdFaKa",
        "DlGZB_iTFmzk"
      ]
    },
    "kernelspec": {
      "name": "python3",
      "display_name": "Python 3"
    },
    "language_info": {
      "name": "python"
    }
  },
  "cells": [
    {
      "cell_type": "markdown",
      "source": [
        "# Conditionally Risk-Averse Contextual Bandits Quick Start"
      ],
      "metadata": {
        "id": "JEIfsN6VGlsE"
      }
    },
    {
      "cell_type": "markdown",
      "source": [
        "In this notebook we simulate a simple product selling scenario. \n",
        "\n",
        "The algorithm must choose the product quality (from 1 to 10) based on the product features (context). If the chosen quality is equal or lower than the ground truth value, we can sell the product and can get a maximum reward (1) but have to pay the expenses of the difference between the predicted and the actual quality; if the algorithm chooses higher quality than the true quality, we cannot sell the product and receive 0 reward.\n",
        "\n",
        "At the end, we show the trade-off between the **risk-averse** algorithm which avoids low rewards but achieves a slightly worse average performance and the **risk-neutral** algorithm that gets better average results but results in degraded worst-case performance. \n",
        "\n"
      ],
      "metadata": {
        "id": "eL0gA2KEB-_d"
      }
    },
    {
      "cell_type": "code",
      "source": [
        "!pip install vowpalwabbit"
      ],
      "metadata": {
        "colab": {
          "base_uri": "https://localhost:8080/"
        },
        "id": "oKtwdP2Lz8vW",
        "outputId": "dad5fd5f-7428-442a-8b0c-be09533a5ae7"
      },
      "execution_count": null,
      "outputs": [
        {
          "output_type": "stream",
          "name": "stdout",
          "text": [
            "Looking in indexes: https://pypi.org/simple, https://us-python.pkg.dev/colab-wheels/public/simple/\n",
            "Requirement already satisfied: vowpalwabbit in /usr/local/lib/python3.7/dist-packages (9.3.0)\n"
          ]
        }
      ]
    },
    {
      "cell_type": "code",
      "source": [
        "# Import the neccessary packages\n",
        "import vowpalwabbit\n",
        "import random\n",
        "import matplotlib.pyplot as plt\n",
        "from scipy.optimize import minimize_scalar\n",
        "import numpy as np"
      ],
      "metadata": {
        "id": "MbxBhxibtClw"
      },
      "execution_count": null,
      "outputs": []
    },
    {
      "cell_type": "code",
      "source": [
        "random.seed(42)"
      ],
      "metadata": {
        "id": "YhUoSZo4vA8e"
      },
      "execution_count": null,
      "outputs": []
    },
    {
      "cell_type": "markdown",
      "source": [],
      "metadata": {
        "id": "rjtGsHlgNOTW"
      }
    },
    {
      "cell_type": "markdown",
      "source": [
        "# Simulate reward"
      ],
      "metadata": {
        "id": "dzRnSmWLFMHA"
      }
    },
    {
      "cell_type": "markdown",
      "source": [
        "In our simulation we need to generate a context and a reward (actions are fixed for each context).\n",
        "\n",
        "The context in this case is two categorical features of the product: its brand and the year it was produced. The goal is to predict the quality (from 1 to 10) of the product, by taking an action (1-10). For each brand-year combination we generate a true label (1-10), which will be compared with the chosen action. Based on the predicted and the true quality, we receive a reward."
      ],
      "metadata": {
        "id": "CMrplI-hNS1S"
      }
    },
    {
      "cell_type": "code",
      "source": [
        "def get_cost(context, chosen_action):\n",
        "  if context[\"brand\"] == \"a\":\n",
        "    if context[\"year\"] == \"2000\":\n",
        "      label = random.randint(1, 3)\n",
        "    elif context[\"year\"] == \"2010\":\n",
        "      label = random.randint(4, 6)\n",
        "    elif context[\"year\"] == \"2020\":\n",
        "      if random.random()<0.75:\n",
        "        label = random.randint(7, 8)\n",
        "      else:\n",
        "        label = random.randint(1, 2)\n",
        "      \n",
        "  elif context[\"brand\"] == \"b\":\n",
        "    if context[\"year\"] == \"2000\":\n",
        "      label = random.randint(3, 5)\n",
        "    elif context[\"year\"] == \"2010\":\n",
        "      label = random.randint(6, 8)\n",
        "    elif context[\"year\"] == \"2020\":\n",
        "      if random.random()<0.75:\n",
        "        label = random.randint(9, 10)\n",
        "      else:\n",
        "        label = random.randint(1, 2)\n",
        "\n",
        "  # if the predicted quality (chosen action) is below the true quality (label) we can sell the product and can get a maximum reward (1) but have to pay the expenses of the difference between the predicted and the actual quality\n",
        "  # overestimating the quality gives 0 reward\n",
        "  if chosen_action<=label:\n",
        "    # VW minimizes loss/cost, therefore we will pass cost as -reward\n",
        "    return -(1-0.1*(label-chosen_action))\n",
        "  return 0"
      ],
      "metadata": {
        "id": "5ek4BB7F4Ba7"
      },
      "execution_count": null,
      "outputs": []
    },
    {
      "cell_type": "markdown",
      "source": [
        "# VW format"
      ],
      "metadata": {
        "id": "JHGl8nVJ4mZq"
      }
    },
    {
      "cell_type": "markdown",
      "source": [
        "For using VW, we need to create a compatible format."
      ],
      "metadata": {
        "id": "h2i4k-jdPsfO"
      }
    },
    {
      "cell_type": "code",
      "source": [
        "# This function modifies (context, action, cost, probability) to VW friendly format\n",
        "def to_vw_example_format(context, actions, cb_label=None):\n",
        "    if cb_label is not None:\n",
        "        chosen_action, cost, prob = cb_label\n",
        "    example_string = \"\"\n",
        "    example_string += \"shared |Product brand={}:1 year={}:1\\n\".format(\n",
        "        context[\"brand\"], context[\"year\"]\n",
        "    )\n",
        "    for action in actions:\n",
        "        if cb_label is not None and action == chosen_action:\n",
        "            example_string += \"0:{}:{} \".format(cost, prob)\n",
        "        example_string += \"|Action quality:{} \\n\".format(action)\n",
        "    # Strip the last newline\n",
        "    return example_string[:-1]"
      ],
      "metadata": {
        "id": "IYVec_7YAKju"
      },
      "execution_count": null,
      "outputs": []
    },
    {
      "cell_type": "code",
      "source": [
        "# Print an example of product brand \"a\" from 2010\n",
        "context = {\"brand\":\"a\", \"year\":\"2010\"}\n",
        "actions = list(range(0,11))\n",
        "\n",
        "print(to_vw_example_format(context, actions))"
      ],
      "metadata": {
        "colab": {
          "base_uri": "https://localhost:8080/"
        },
        "id": "D9NpkLubAu3T",
        "outputId": "915d1efc-2a4d-4e4e-b4d6-62584b0e132e"
      },
      "execution_count": null,
      "outputs": [
        {
          "output_type": "stream",
          "name": "stdout",
          "text": [
            "shared |Product brand=a:1 year=2010:1\n",
            "|Action quality:0 \n",
            "|Action quality:1 \n",
            "|Action quality:2 \n",
            "|Action quality:3 \n",
            "|Action quality:4 \n",
            "|Action quality:5 \n",
            "|Action quality:6 \n",
            "|Action quality:7 \n",
            "|Action quality:8 \n",
            "|Action quality:9 \n",
            "|Action quality:10 \n"
          ]
        }
      ]
    },
    {
      "cell_type": "markdown",
      "source": [
        "# Getting a decision"
      ],
      "metadata": {
        "id": "ZyUuiEZdFaKa"
      }
    },
    {
      "cell_type": "markdown",
      "source": [
        "By passing an example to VW, it returns a probability mass function, from which we can sample an action and get its probability."
      ],
      "metadata": {
        "id": "LS24aub3QR9x"
      }
    },
    {
      "cell_type": "code",
      "source": [
        "def sample_custom_pmf(pmf):\n",
        "    total = sum(pmf)\n",
        "    scale = 1 / total\n",
        "    pmf = [x * scale for x in pmf]\n",
        "    draw = random.random()\n",
        "    sum_prob = 0.0\n",
        "    for index, prob in enumerate(pmf):\n",
        "        sum_prob += prob\n",
        "        if sum_prob > draw:\n",
        "            return index, prob"
      ],
      "metadata": {
        "id": "VXeP8nTlfu1s"
      },
      "execution_count": null,
      "outputs": []
    },
    {
      "cell_type": "code",
      "source": [
        "def get_action(vw, context, actions):\n",
        "    vw_text_example = to_vw_example_format(context, actions)\n",
        "    pmf = vw.predict(vw_text_example)\n",
        "    chosen_action_index, prob = sample_custom_pmf(pmf)\n",
        "    return actions[chosen_action_index], prob"
      ],
      "metadata": {
        "id": "BAL2hhR8fn1S"
      },
      "execution_count": null,
      "outputs": []
    },
    {
      "cell_type": "markdown",
      "source": [
        "# Simulation set up"
      ],
      "metadata": {
        "id": "DlGZB_iTFmzk"
      }
    },
    {
      "cell_type": "markdown",
      "source": [
        "We will choose our context (brand and year) uniformly at random."
      ],
      "metadata": {
        "id": "KT36PpXfRGEi"
      }
    },
    {
      "cell_type": "code",
      "source": [
        "brands = [\"a\", \"b\"]\n",
        "years = [\"2000\", \"2010\", \"2020\"]\n",
        "actions = list(range(1,11))\n",
        "\n",
        "def choose_brand(brands):\n",
        "    return random.choice(brands)\n",
        "\n",
        "def choose_year(years):\n",
        "    return random.choice(years)"
      ],
      "metadata": {
        "id": "OIwTggJV-66V"
      },
      "execution_count": null,
      "outputs": []
    },
    {
      "cell_type": "markdown",
      "source": [
        "After choosing the brand and the year, we pass the context to the VW learner to get an action and its probability. We also get the cost of choosing this action. Finally, the VW learner can learn from this example after formatting it in VW format."
      ],
      "metadata": {
        "id": "REKYlELKRdcl"
      }
    },
    {
      "cell_type": "code",
      "source": [
        "def run_simulation(\n",
        "    vw, num_iterations, brand, year, actions, cost_function, do_learn=True\n",
        "):\n",
        "    cost_sum = 0.0\n",
        "    reward_rate = []\n",
        "    rewards = []\n",
        "\n",
        "    for i in range(1, num_iterations + 1):\n",
        "        # 1. In each simulation choose a brand\n",
        "        brand = choose_brand(brands)\n",
        "        # 2. Choose year for a given product\n",
        "        year = choose_year(years)\n",
        "\n",
        "        # 3. Pass context to vw to get an action\n",
        "        context = {\"brand\": brand, \"year\": year}\n",
        "        action, prob = get_action(vw, context, actions)\n",
        "\n",
        "        # 4. Get cost of the action we chose\n",
        "        cost = cost_function(context, action)\n",
        "        cost_sum += cost\n",
        "\n",
        "        if do_learn:\n",
        "            # 5. Inform VW of what happened so we can learn from it\n",
        "            vw_format = vw.parse(\n",
        "                to_vw_example_format(context, actions, (action, cost, prob)),\n",
        "                vowpalwabbit.LabelType.CONTEXTUAL_BANDIT,\n",
        "            )\n",
        "            # 6. Learn\n",
        "            vw.learn(vw_format)\n",
        "            # 7. Let VW know we're done with these objects\n",
        "            vw.finish_example(vw_format)\n",
        "\n",
        "        # We negate this so that on the plot instead of minimizing cost, we are maximizing reward\n",
        "        reward_rate.append(-1 * cost_sum / i)\n",
        "        rewards.append(-cost)\n",
        "\n",
        "    return reward_rate, rewards"
      ],
      "metadata": {
        "id": "WUpNmGJ0xBGU"
      },
      "execution_count": null,
      "outputs": []
    },
    {
      "cell_type": "markdown",
      "source": [
        "We can plot the reward rate (reward = -cost) over the iterations."
      ],
      "metadata": {
        "id": "bmLtDnvrSkhd"
      }
    },
    {
      "cell_type": "code",
      "source": [
        "def plot_reward_rate(num_iterations, reward_rate):\n",
        "    plt.show()\n",
        "    plt.plot(range(1, num_iterations + 1), reward_rate)\n",
        "    plt.xlabel(\"num_iterations\", fontsize=14)\n",
        "    plt.ylabel(\"reward rate\", fontsize=14)"
      ],
      "metadata": {
        "id": "uKHvjnY2itOF"
      },
      "execution_count": null,
      "outputs": []
    },
    {
      "cell_type": "markdown",
      "source": [
        "## Running a risk-averse learner with expectile parameter q=0.2"
      ],
      "metadata": {
        "id": "p1KTT2ESsHVd"
      }
    },
    {
      "cell_type": "code",
      "source": [
        "gamma_scale = 1000  # SquareCB greediness parameter to gamma=[gamma_scale]*[num examples]^[gamma_exponent]\n",
        "gamma_exponent = 0.8 # Exponent on [num examples] in SquareCB greediness parameter gamma\n",
        "expectile_q = 0.2 # Parameter q associated with Expectile loss\n",
        "\n",
        "# Instantiate learner in VW\n",
        "vw = vowpalwabbit.Workspace(\"--cb_explore_adf -q :: --cb_type mtr --squarecb --gamma_scale \"\n",
        "  + str(gamma_scale) \n",
        "  + \" --gamma_exponent \"\n",
        "  + str(gamma_exponent)\n",
        "  + \" --loss_function expectile --expectile_q \"\n",
        "  + str(expectile_q))\n",
        "\n",
        "# Run simulation\n",
        "num_iterations = 1000\n",
        "reward_rate_q20, rewards_q20 = run_simulation(vw, num_iterations, brands, years, actions, get_cost)\n",
        "vw.finish()\n",
        "\n",
        "# Plot reward rate over iterations\n",
        "plot_reward_rate(num_iterations, reward_rate_q20)"
      ],
      "metadata": {
        "id": "0BLUWYvJw0VM",
        "colab": {
          "base_uri": "https://localhost:8080/",
          "height": 283
        },
        "outputId": "b469d273-46b0-403d-f650-bd2d4593820d"
      },
      "execution_count": null,
      "outputs": [
        {
          "output_type": "display_data",
          "data": {
            "text/plain": [
              "<Figure size 432x288 with 1 Axes>"
            ],
            "image/png": "[encoded data removed]"
          },
          "metadata": {
            "needs_background": "light"
          }
        }
      ]
    },
    {
      "cell_type": "markdown",
      "source": [
        "## Running a risk-neutral learner with expectile parameter q=0.5 "
      ],
      "metadata": {
        "id": "aW-aI4wcTBQN"
      }
    },
    {
      "cell_type": "code",
      "source": [
        "gamma_scale = 1000  # SquareCB greediness parameter to gamma=[gamma_scale]*[num examples]^[gamma_exponent]\n",
        "gamma_exponent = 0.8 # Exponent on [num examples] in SquareCB greediness parameter gamma\n",
        "expectile_q = 0.5 # Parameter q associated with Expectile loss\n",
        "\n",
        "# Instantiate learner in VW\n",
        "vw = vowpalwabbit.Workspace(\"--cb_explore_adf -q :: --cb_type mtr --squarecb --gamma_scale \"\n",
        "  + str(gamma_scale) \n",
        "  + \" --gamma_exponent \"\n",
        "  + str(gamma_exponent)\n",
        "  + \" --loss_function expectile --expectile_q \"\n",
        "  + str(expectile_q))\n",
        "\n",
        "# Run simulation\n",
        "num_iterations = 1000\n",
        "reward_rate_q50, rewards_q50 = run_simulation(vw, num_iterations, brands, years, actions, get_cost)\n",
        "vw.finish()\n",
        "\n",
        "# Plot reward rate over iterations\n",
        "plot_reward_rate(num_iterations, reward_rate_q50)"
      ],
      "metadata": {
        "colab": {
          "base_uri": "https://localhost:8080/",
          "height": 287
        },
        "id": "N4gbdcvOxkAg",
        "outputId": "f05f2e54-2b33-4fad-b9ee-ccf5cb7763db"
      },
      "execution_count": null,
      "outputs": [
        {
          "output_type": "display_data",
          "data": {
            "text/plain": [
              "<Figure size 432x288 with 1 Axes>"
            ],
            "image/png": "[encoded data removed]"
          },
          "metadata": {
            "needs_background": "light"
          }
        }
      ]
    },
    {
      "cell_type": "markdown",
      "source": [
        "# Visualize evaluation expectile"
      ],
      "metadata": {
        "id": "QD_YbPcUN5_p"
      }
    },
    {
      "cell_type": "markdown",
      "source": [
        "We want to plot the trade-off between tail control and average-case performance.\n",
        "\n",
        "\n",
        "The **risk-averse learner** (with q=0.2) achieves better tail performance but lower average performance. In contrast to this, the **risk-neutral learner** (with q=0.5) suffers from degraded worst-case behaviour in exchange for better average-case results. \n",
        "\n",
        "If our goal is to avoid bad outcomes, the risk-averse approach is clearly the better choice."
      ],
      "metadata": {
        "id": "AFOyPtH5TM1O"
      }
    },
    {
      "cell_type": "code",
      "source": [
        "# Expectile loss\n",
        "def f(m, *data):\n",
        "   q, x = data\n",
        "   return q * np.sum(np.square(np.clip(x - m, a_min=0, a_max=None))) + (1 - q) * np.sum(np.square(np.clip(x - m, a_min=None, a_max=0)))"
      ],
      "metadata": {
        "id": "xROqSGdGwLP0"
      },
      "execution_count": null,
      "outputs": []
    },
    {
      "cell_type": "code",
      "source": [
        "# Calculate EVaR = the minimizer of the expectile loss\n",
        "def calc_evar(rew, q=0.2, bounds=(-1,1)):\n",
        "  data = (q, rew)\n",
        "  return float(minimize_scalar(f, bounds=bounds, method='bounded', args=data).x)"
      ],
      "metadata": {
        "id": "LKNp7YsHwOwb"
      },
      "execution_count": null,
      "outputs": []
    },
    {
      "cell_type": "code",
      "source": [
        "# Evaluation expectile values, used for plotting\n",
        "eval_expectiles_w = [0.1,0.2,0.3,0.4,0.5]"
      ],
      "metadata": {
        "id": "FSZDP2gRyXED"
      },
      "execution_count": null,
      "outputs": []
    },
    {
      "cell_type": "code",
      "source": [
        "# Calculate the the evaluation EVaR values of the risk-averse learner\n",
        "evars_q20 = []\n",
        "for w in eval_expectiles_w:\n",
        "  evar_q20 = calc_evar(rewards_q20, q=w, bounds=(0,1)) \n",
        "  evars_q20.append(evar_q20)"
      ],
      "metadata": {
        "id": "sdHrRfrLwbdg"
      },
      "execution_count": null,
      "outputs": []
    },
    {
      "cell_type": "code",
      "source": [
        "# Calculate the the evaluation EVaR values of the risk-neutral learner\n",
        "evars_q50 = []\n",
        "for w in eval_expectiles_w:\n",
        "  evar_q50 = calc_evar(rewards_q50, q=w, bounds=(0,1)) \n",
        "  evars_q50.append(evar_q50)"
      ],
      "metadata": {
        "id": "PqHB6e_rxUwH"
      },
      "execution_count": null,
      "outputs": []
    },
    {
      "cell_type": "code",
      "source": [
        "plt.style.use('seaborn-colorblind')\n",
        "plt.plot(eval_expectiles_w, evars_q20, label='risk-averse (q=0.2)') # Plot the risk-averse learner\n",
        "plt.plot(eval_expectiles_w, evars_q50, label='risk-neutral (q=0.5)') # Plot the risk-neutral learner\n",
        "\n",
        "plt.xlabel('Evaluation expectile $w$', fontsize=16) # 5 different evaluation expectiles where we calculated the EVaR values\n",
        "plt.ylabel('Realized EVaR$_w$ (reward)', fontsize=16) # EVaR values, the higher the better\n",
        "\n",
        "plt.locator_params(axis='y', nbins=6)\n",
        "plt.locator_params(axis='x', nbins=5)\n",
        "\n",
        "plt.legend(fontsize=16)\n",
        "plt.xticks(fontsize=16)\n",
        "plt.yticks(fontsize=16)\n",
        "plt.setp(plt.gca().spines.values(), linewidth=2)\n",
        "plt.tight_layout()"
      ],
      "metadata": {
        "colab": {
          "base_uri": "https://localhost:8080/",
          "height": 297
        },
        "id": "sr0XF_QQxwCg",
        "outputId": "a59d6388-c9cd-45e7-cd73-1526676717b4"
      },
      "execution_count": null,
      "outputs": [
        {
          "output_type": "display_data",
          "data": {
            "text/plain": [
              "<Figure size 432x288 with 1 Axes>"
            ],
            "image/png": "[encoded data removed]"
          },
          "metadata": {
            "needs_background": "light"
          }
        }
      ]
    }
  ]
}